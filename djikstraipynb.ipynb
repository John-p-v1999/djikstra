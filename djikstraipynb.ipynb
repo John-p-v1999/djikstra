{
  "nbformat": 4,
  "nbformat_minor": 0,
  "metadata": {
    "colab": {
      "name": "djikstraipynb",
      "provenance": [],
      "authorship_tag": "ABX9TyOOcRWDMMtMiD+fEwJ28qGe",
      "include_colab_link": true
    },
    "kernelspec": {
      "name": "python3",
      "display_name": "Python 3"
    }
  },
  "cells": [
    {
      "cell_type": "markdown",
      "metadata": {
        "id": "view-in-github",
        "colab_type": "text"
      },
      "source": [
        "<a href=\"https://colab.research.google.com/github/John-p-v1999/djikstra/blob/master/djikstraipynb.ipynb\" target=\"_parent\"><img src=\"https://colab.research.google.com/assets/colab-badge.svg\" alt=\"Open In Colab\"/></a>"
      ]
    },
    {
      "cell_type": "code",
      "metadata": {
        "id": "diI-gsLJXuqK",
        "colab_type": "code",
        "colab": {}
      },
      "source": [
        "graph= {'a':{'b':10, 'c': 3}, 'b':{'c':1,'d':2}, 'c':{'b':4,'d':8,'e':2},'d':{'e':7},'e':{'d':9}}"
      ],
      "execution_count": 8,
      "outputs": []
    },
    {
      "cell_type": "code",
      "metadata": {
        "id": "62lvWZoJX2OR",
        "colab_type": "code",
        "colab": {}
      },
      "source": [
        "def djikstra(graph,start,goal):\n",
        "  shortest_dist={}\n",
        "  parent={}\n",
        "  unseen=graph\n",
        "  path=[]\n",
        "  for keys in graph.keys():\n",
        "    shortest_dist[keys]=float(\"inf\")\n",
        "  shortest_dist[start]=0\n",
        "  parent[start]=None\n",
        "  while unseen:\n",
        "    minNode = None\n",
        "    for node in unseen:\n",
        "      if minNode is None:\n",
        "        minNode = node\n",
        "      elif shortest_dist[node] < shortest_dist[minNode]:\n",
        "        minNode=node\n",
        "    for child,wt in graph[minNode].items():\n",
        "      if wt+shortest_dist[minNode] < shortest_dist[child]:\n",
        "        shortest_dist[child] = wt+shortest_dist[minNode]\n",
        "        parent[child] = minNode\n",
        "    unseen.pop(minNode)\n",
        "  print(shortest_dist)\n",
        "  curr=goal\n",
        "  while curr != start:\n",
        "    try:\n",
        "      path.insert(0,curr)\n",
        "      curr=parent[curr]\n",
        "    except KeyError:\n",
        "      print('pathNotReachable')\n",
        "      break\n",
        "\n",
        "  path.insert(0,start)\n",
        "  if shortest_dist[goal]!=float('inf'):\n",
        "    print(path)\n",
        "    print(shortest_dist[goal])\n",
        "     \n",
        "\n",
        "\n"
      ],
      "execution_count": 9,
      "outputs": []
    },
    {
      "cell_type": "code",
      "metadata": {
        "id": "UAzs5Sj8X2Q8",
        "colab_type": "code",
        "colab": {
          "base_uri": "https://localhost:8080/",
          "height": 68
        },
        "outputId": "cab56b1b-50d4-4dfd-e81e-37ba5a72b0e9"
      },
      "source": [
        "djikstra(graph,'a','d')"
      ],
      "execution_count": 10,
      "outputs": [
        {
          "output_type": "stream",
          "text": [
            "{'a': 0, 'b': 7, 'c': 3, 'd': 9, 'e': 5}\n",
            "['a', 'c', 'b', 'd']\n",
            "9\n"
          ],
          "name": "stdout"
        }
      ]
    }
  ]
}